{
 "cells": [
  {
   "cell_type": "code",
   "execution_count": 1,
   "id": "5f8ff693-b7b4-453d-8487-95b6bccc50a5",
   "metadata": {
    "tags": []
   },
   "outputs": [],
   "source": [
    "#pip install --upgrade vertexai"
   ]
  },
  {
   "cell_type": "code",
   "execution_count": 2,
   "id": "993d9f59-1d2c-45e8-a73f-ca947e1e1c27",
   "metadata": {
    "tags": []
   },
   "outputs": [],
   "source": [
    "import vertexai\n",
    "from vertexai.preview.vision_models import Image, ImageGenerationModel"
   ]
  },
  {
   "cell_type": "code",
   "execution_count": 3,
   "id": "17493863-e765-4e36-beaa-9a0d34bc47aa",
   "metadata": {
    "tags": []
   },
   "outputs": [],
   "source": [
    "vertexai.init(project=\"dprzek-vertex\", location=\"us-central1\")"
   ]
  },
  {
   "cell_type": "code",
   "execution_count": 4,
   "id": "2444872b-62fa-45af-b2a0-b050dbf3d8ec",
   "metadata": {
    "tags": []
   },
   "outputs": [],
   "source": [
    "generation_model = ImageGenerationModel.from_pretrained(\"imagegeneration@002\")"
   ]
  },
  {
   "cell_type": "code",
   "execution_count": 6,
   "id": "2c675294-3517-46af-8533-db4eee6ec18a",
   "metadata": {
    "tags": []
   },
   "outputs": [],
   "source": [
    "#base_img = Image.load_from_file(location=\"gs://grumpycat-finetune/grumpy01-2024-10-27T20:48:11.883Z.jpg\")"
   ]
  },
  {
   "cell_type": "code",
   "execution_count": 7,
   "id": "85ab6800-9a21-4bea-939d-9a5ca41b0a8b",
   "metadata": {
    "tags": []
   },
   "outputs": [],
   "source": [
    "base_img = Image.load_from_file(location=\"maxresdefault.jpg\")"
   ]
  },
  {
   "cell_type": "code",
   "execution_count": 8,
   "id": "81b48d77-1945-4dea-bee2-65e7b201c342",
   "metadata": {
    "tags": []
   },
   "outputs": [],
   "source": [
    "#help(generation_model)"
   ]
  },
  {
   "cell_type": "code",
   "execution_count": 10,
   "id": "bcca73c9-86d2-4b99-8cfe-8e335c05d4c0",
   "metadata": {
    "tags": []
   },
   "outputs": [],
   "source": [
    "upscaled_image = generation_model.upscale_image(image=base_img, upscale_factor=\"x2\")"
   ]
  },
  {
   "cell_type": "code",
   "execution_count": 11,
   "id": "5dc2d5c1-dd38-494c-ab36-fe81c7ff07ff",
   "metadata": {
    "tags": []
   },
   "outputs": [],
   "source": [
    "upscaled_image.save(\"upscaled_image.jpg\", \"JPEG\")"
   ]
  }
 ],
 "metadata": {
  "environment": {
   "kernel": "python3",
   "name": "tf2-gpu.2-17.m126",
   "type": "gcloud",
   "uri": "us-docker.pkg.dev/deeplearning-platform-release/gcr.io/tf2-gpu.2-17:m126"
  },
  "kernelspec": {
   "display_name": "Python 3 (Local)",
   "language": "python",
   "name": "python3"
  },
  "language_info": {
   "codemirror_mode": {
    "name": "ipython",
    "version": 3
   },
   "file_extension": ".py",
   "mimetype": "text/x-python",
   "name": "python",
   "nbconvert_exporter": "python",
   "pygments_lexer": "ipython3",
   "version": "3.10.15"
  }
 },
 "nbformat": 4,
 "nbformat_minor": 5
}
